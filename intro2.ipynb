{
 "cells": [
  {
   "cell_type": "markdown",
   "metadata": {
    "slideshow": {
     "slide_type": "slide"
    }
   },
   "source": [
    "# An introduction to solving biological problems with Python: 2"
   ]
  },
  {
   "cell_type": "markdown",
   "metadata": {
    "slideshow": {
     "slide_type": "slide"
    }
   },
   "source": [
    "## Learning objectives\n",
    "\n",
    "- **Recall** what we've learned so far on variables, common data types and collections\n",
    "- **Propose and create** solutions using these concepts in an exercise\n",
    "- **Use** conditions to execute specific code block\n",
    "- **Employ** loops to repeat code block\n",
    "- **Practice** reading and writing files with Python\n",
    "- **Solve** more complex exercises"
   ]
  },
  {
   "cell_type": "markdown",
   "metadata": {
    "slideshow": {
     "slide_type": "slide"
    }
   },
   "source": [
    "# Recap\n",
    "\n",
    "- Simple data types, Collections\n",
    "- Functions used so far..."
   ]
  },
  {
   "cell_type": "markdown",
   "metadata": {
    "slideshow": {
     "slide_type": "slide"
    }
   },
   "source": [
    "## Simple data types"
   ]
  },
  {
   "cell_type": "code",
   "execution_count": 1,
   "metadata": {
    "slideshow": {
     "slide_type": "subslide"
    }
   },
   "outputs": [
    {
     "name": "stdout",
     "output_type": "stream",
     "text": [
      "Integer: 1\n",
      "Float 3.14\n",
      "True\n"
     ]
    }
   ],
   "source": [
    "## Integer\n",
    "i = 1\n",
    "print('Integer:', i)\n",
    "## Float\n",
    "x = 3.14\n",
    "print('Float', x)\n",
    "## Boolean\n",
    "print(True)"
   ]
  },
  {
   "cell_type": "code",
   "execution_count": 2,
   "metadata": {
    "slideshow": {
     "slide_type": "subslide"
    }
   },
   "outputs": [
    {
     "name": "stdout",
     "output_type": "stream",
     "text": [
      "ATGTCGTCTACAACACTspam's\n",
      "ATGTCGTCTACAACACT spam's\n"
     ]
    }
   ],
   "source": [
    "## String\n",
    "s0 = '' # empty string\n",
    "s1 = 'ATGTCGTCTACAACACT' # single quotes\n",
    "s2 = \"spam's\" # double quotes\n",
    "print(s1 + s2) # concatenate\n",
    "print(s1, s2) # print"
   ]
  },
  {
   "cell_type": "markdown",
   "metadata": {
    "slideshow": {
     "slide_type": "slide"
    }
   },
   "source": [
    "## Collections"
   ]
  },
  {
   "cell_type": "code",
   "execution_count": 3,
   "metadata": {
    "slideshow": {
     "slide_type": "subslide"
    }
   },
   "outputs": [
    {
     "name": "stdout",
     "output_type": "stream",
     "text": [
      "A tuple: (2, 3, 4, 5)\n",
      "First element of tuple: 2\n"
     ]
    }
   ],
   "source": [
    "## Tuple - immutable\n",
    "my_tuple = (2, 3, 4, 5)\n",
    "print('A tuple:', my_tuple)\n",
    "print('First element of tuple:', my_tuple[0])"
   ]
  },
  {
   "cell_type": "code",
   "execution_count": 4,
   "metadata": {
    "slideshow": {
     "slide_type": "subslide"
    }
   },
   "outputs": [
    {
     "name": "stdout",
     "output_type": "stream",
     "text": [
      "A list: [2, 3, 4, 5]\n",
      "First element of list: 2\n",
      "Appended list: [2, 3, 4, 5, 12]\n",
      "Modified list: [45, 3, 4, 5, 12]\n"
     ]
    }
   ],
   "source": [
    "## List\n",
    "my_list = [2, 3, 4, 5]\n",
    "print('A list:', my_list)\n",
    "print('First element of list:', my_list[0])\n",
    "my_list.append(12)\n",
    "print('Appended list:', my_list)\n",
    "my_list[0] = 45\n",
    "print('Modified list:', my_list)"
   ]
  },
  {
   "cell_type": "code",
   "execution_count": 5,
   "metadata": {
    "slideshow": {
     "slide_type": "subslide"
    }
   },
   "outputs": [
    {
     "name": "stdout",
     "output_type": "stream",
     "text": [
      "Here is a string: ATGTCATTT\n",
      "First character: A\n",
      "Slice text[1:3]: TG\n",
      "Number of characters in text 9\n"
     ]
    }
   ],
   "source": [
    "## String - immutable, tuple of characters\n",
    "text = \"ATGTCATTT\"\n",
    "print('Here is a string:', text)\n",
    "print('First character:', text[0])\n",
    "print('Slice text[1:3]:', text[1:3])\n",
    "print('Number of characters in text', len(text))"
   ]
  },
  {
   "cell_type": "code",
   "execution_count": 6,
   "metadata": {
    "slideshow": {
     "slide_type": "subslide"
    }
   },
   "outputs": [
    {
     "name": "stdout",
     "output_type": "stream",
     "text": [
      "A set: {1, 2, 4, 5, 6}\n"
     ]
    }
   ],
   "source": [
    "## Set - unique unordered elements\n",
    "my_set = set([1,2,2,2,2,4,5,6,6,6])\n",
    "print('A set:', my_set)"
   ]
  },
  {
   "cell_type": "code",
   "execution_count": 7,
   "metadata": {
    "slideshow": {
     "slide_type": "subslide"
    }
   },
   "outputs": [
    {
     "name": "stdout",
     "output_type": "stream",
     "text": [
      "A dictionary: {'A': 'Adenine', 'C': 'Cytosine', 'G': 'Guanine', 'T': 'Thymine'}\n",
      "Value associated to key C: Cytosine\n"
     ]
    }
   ],
   "source": [
    "## Dictionary\n",
    "my_dictionary = {\"A\": \"Adenine\", \n",
    "                 \"C\": \"Cytosine\", \n",
    "                 \"G\": \"Guanine\", \n",
    "                 \"T\": \"Thymine\"}\n",
    "print('A dictionary:', my_dictionary)\n",
    "print('Value associated to key C:', my_dictionary['C'])"
   ]
  },
  {
   "cell_type": "markdown",
   "metadata": {
    "slideshow": {
     "slide_type": "slide"
    }
   },
   "source": [
    "## Functions used so far..."
   ]
  },
  {
   "cell_type": "code",
   "execution_count": 8,
   "metadata": {},
   "outputs": [
    {
     "name": "stdout",
     "output_type": "stream",
     "text": [
      "There are 5 elements in the list ['A', 'C', 'A', 'T', 'G']\n",
      "There are 2 letter A in the list ['A', 'C', 'A', 'T', 'G']\n",
      "['ATG', 'TCA', 'CCG', 'GGC']\n"
     ]
    }
   ],
   "source": [
    "my_list = ['A', 'C', 'A', 'T', 'G']\n",
    "print('There are', len(my_list), 'elements in the list', my_list)\n",
    "print('There are', my_list.count('A'), 'letter A in the list', my_list)\n",
    "print(\"ATG TCA CCG GGC\".split())"
   ]
  },
  {
   "cell_type": "markdown",
   "metadata": {
    "collapsed": true
   },
   "source": [
    "# Part 2.1: Conditional execution\n",
    "\n",
    "-----\n",
    "\n",
    " - Code blocks\n",
    " - Conditional execution\n"
   ]
  },
  {
   "cell_type": "markdown",
   "metadata": {},
   "source": [
    "## Program control and logic"
   ]
  },
  {
   "cell_type": "markdown",
   "metadata": {},
   "source": [
    "A program will normally run by executing the stated commands, one after the other in sequential order. Frequently however, you will need the program to deviate from this. There are several ways of diverting from the line-by-line paradigm:\n",
    "\n",
    "- With conditional statements. Here you can check if some statement or expression is true, and if it is then you continue on with the following block of code, otherwise you might skip it or execute a different bit of code.\n",
    "\n",
    "- By performing repetitive loops through the same block of code, where each time through the loop different values may be used for the variables.\n",
    "\n",
    "- Through the use of functions (subroutines) where the program’s execution jumps from a particular line of code to an entirely different spot, even in a different file or module, to do a task before (usually) jumping back again. Functions are covered in the next session, so we will not discuss them yet.\n",
    "\n",
    "- By checking if an error or exception occurs, i.e. something illegal has happened, and executing different blocks of code accordingly"
   ]
  },
  {
   "cell_type": "markdown",
   "metadata": {},
   "source": [
    "## Code blocks"
   ]
  },
  {
   "cell_type": "markdown",
   "metadata": {},
   "source": [
    "With all of the means by which Python code execution can jump about we naturally need to be aware of the boundaries of the block of code we jump into, so that it is clear at what point the job is done, and program execution can jump back again. In essence it is required that the end of a function, loop or conditional statement be defined, so that we know the bounds of their respective code blocks."
   ]
  },
  {
   "cell_type": "markdown",
   "metadata": {},
   "source": [
    "Python uses indentation to show which statements are in a block of code, other languages use specific `begin` and `end` statements or curly braces `{}`. It doesn't matter how much indentation you use, but the whole block must be consistent, i.e., if the first statement is indented by four spaces, the rest of the block must be indented by the same amount. The Python style guide recommends using 4-space indentation. Use spaces, rather than tabs, since different editors display tab characters with different widths.\n",
    "\n",
    "The use of indentation to delineate code blocks is illustrated in an abstract manner in the following scheme: \n",
    "\n",
    "Statement 1:\n",
    "\n",
    "    Command A – in the block of statement 1\n",
    "    Command B – in the block of statement 1\n",
    "  \n",
    "    Statement 2:\n",
    "        Command C – in the block of statement 2\n",
    "        Command D – in the block of statement 2\n",
    "  \n",
    "    Command E – back in the block of statement 1\n",
    "\n",
    "Command F – outside all statement blocks\n"
   ]
  },
  {
   "cell_type": "markdown",
   "metadata": {},
   "source": [
    "## Conditional execution"
   ]
  },
  {
   "cell_type": "markdown",
   "metadata": {},
   "source": [
    "### The <tt>if</tt> statement"
   ]
  },
  {
   "cell_type": "markdown",
   "metadata": {},
   "source": [
    "A conditional <tt>if</tt> statement is used to specify that some block of code should only be executed if some associated test is upheld; a conditional expression evaluates to <tt>True</tt>. This might also involve subsidiary checks using the <tt>elif</tt> statement to use an alternative block if the previous expression turns out to be False. There can even be a final <tt>else</tt> statement to do something if none of the checks are passed. \n",
    "\n",
    "The following uses statements that test whether a number is less than zero, greater than zero or otherwise equal to zero and will print out a different message in each case:"
   ]
  },
  {
   "cell_type": "code",
   "execution_count": null,
   "metadata": {
    "collapsed": true
   },
   "outputs": [],
   "source": [
    "x = -3\n",
    "\n",
    "if x > 0:\n",
    "  print(\"Value is positive\")\n",
    "\n",
    "elif x < 0:\n",
    "  print(\"Value is negative\")\n",
    "\n",
    "else:\n",
    "  print(\"Value is zero\")"
   ]
  },
  {
   "cell_type": "markdown",
   "metadata": {},
   "source": [
    "The general form of writing out such combined conditional statements is as follows:"
   ]
  },
  {
   "cell_type": "markdown",
   "metadata": {},
   "source": [
    "<pre>\n",
    "if conditionalExpression1:\n",
    "    # codeBlock1\n",
    "\n",
    "elif conditionalExpression2:\n",
    "    # codeBlock2\n",
    "\n",
    "elif conditionalExpressionN:\n",
    "    # codeBlockN\n",
    "    +any number of additional elif statements, then finally:\n",
    "\n",
    "else:\n",
    "    # codeBlockE\n",
    "</pre>"
   ]
  },
  {
   "cell_type": "markdown",
   "metadata": {},
   "source": [
    "\n",
    "The <tt>elif</tt> block is optional, and we can use as many as we like. The <tt>else</tt> block is also optional, so will only have the <tt>if</tt> statement, which is a fairly common situation. It is often good practice to include <tt>else</tt> where possible though, so that you always catch cases that do not pass, otherwise values might go unnoticed, which might not be the desired behaviour."
   ]
  },
  {
   "cell_type": "markdown",
   "metadata": {},
   "source": [
    "Placeholders are needed for “empty” code blocks:"
   ]
  },
  {
   "cell_type": "code",
   "execution_count": null,
   "metadata": {
    "collapsed": true
   },
   "outputs": [],
   "source": [
    "gene = \"BRCA2\"\n",
    "geneExpression = -1.2\n",
    "\n",
    "if geneExpression < 0:\n",
    "    print(gene, \"is downregulated\")\n",
    "        \n",
    "elif geneExpression > 0:\n",
    "    print(gene, \"is upregulated\")\n",
    "        \n",
    "else:\n",
    "    pass"
   ]
  },
  {
   "cell_type": "markdown",
   "metadata": {},
   "source": [
    "For very simple conditional checks, you can write the `if` statement on a single line as a single expression, and the result will be the expression before the `if` if the condition is true or the expression after the `else` otherwise.\n",
    "\n"
   ]
  },
  {
   "cell_type": "code",
   "execution_count": null,
   "metadata": {
    "collapsed": true
   },
   "outputs": [],
   "source": [
    "x = 11\n",
    "\n",
    "if x < 10:\n",
    "    s = \"Yes\"\n",
    "else:\n",
    "    s = \"No\"\n",
    "print(s)\n",
    "\n",
    "# Could also be written onto one line\n",
    "s = \"Yes\" if x < 10 else \"No\"\n",
    "print(s)"
   ]
  },
  {
   "cell_type": "markdown",
   "metadata": {},
   "source": [
    "### Comparisons and truth"
   ]
  },
  {
   "cell_type": "markdown",
   "metadata": {},
   "source": [
    "With conditional execution the question naturally arises as to which expressions are deemed to be true and which false. For the python boolean values <tt>True</tt> and <tt>False</tt> the answer is (hopefully) obvious. Also, the logical states of truth and falsehood that result from conditional checks like “Is x greater than 5?” or “Is y in this list?” are also clear. When comparing values Python has the standard comparison (or relational) operators, some of which we have already seen:\n",
    "\n",
    "|Operator |\tDescription |\tExample |\n",
    "|---------|-------------|-----------|\n",
    "|`==`  |\t    equality |\t1 == 2 # False |\n",
    "|`!=`  |\t    non equality |\t1 != 2 # True |\n",
    "| `<`  |\t    less than |\t1 < 2 # True |\n",
    "| `<=` |\t    equal or less than |\t2 <= 2 # True |\n",
    "| `>`  |\t    greater then |\t1 > 2 # False |\n",
    "| `>=` |\t    equal or greater than |\t1 >= 1 # True |\n",
    "\n",
    "It is notable that comparison operations can be combined, for example to check if a value is within a range."
   ]
  },
  {
   "cell_type": "code",
   "execution_count": null,
   "metadata": {
    "collapsed": true
   },
   "outputs": [],
   "source": [
    "x = -5\n",
    "\n",
    "if x > 0 and x < 10:\n",
    "    print(\"In range A\")\n",
    "    \n",
    "elif x < 0 or x > 10:\n",
    "    print(\"In range B\")"
   ]
  },
  {
   "cell_type": "markdown",
   "metadata": {},
   "source": [
    "Python has two additional comparison operators <tt>is</tt> and <tt>is not</tt>.\n",
    "\n",
    "These compare whether two objects are the same object, whereas <tt>==</tt> and <tt>!=</tt> compare whether values are the same.\n",
    "\n",
    "There is a simple rule of thumb to tell when to use `==` or `is`:\n",
    "- `==` is for **value** equality. Use it to check if two objects have the same value.\n",
    "- `is` is for **reference** equality. Use it to check if two references refer to the same object.\n",
    "\n",
    "*Something to note*, you will get unexpected and inconsistent results if you mistakenly use `is` to compare for reference equality on integers:"
   ]
  },
  {
   "cell_type": "code",
   "execution_count": null,
   "metadata": {},
   "outputs": [],
   "source": [
    "a = 500\n",
    "b = 500\n",
    "print(a == b) # True\n",
    "print(a is b) # False"
   ]
  },
  {
   "cell_type": "markdown",
   "metadata": {},
   "source": [
    "Another example with lists `x`, `y`, and `z`:\n",
    "- `y` being a copy of `x`\n",
    "- and `z` being another reference to the same object as `x`"
   ]
  },
  {
   "cell_type": "code",
   "execution_count": null,
   "metadata": {},
   "outputs": [],
   "source": [
    "x = [123, 54, 92, 87, 33]\n",
    "y = x[:] # y is a copy of x\n",
    "z = x\n",
    "print(x)\n",
    "print(y)\n",
    "print(z)\n",
    "print(\"Are values of y and x the same?\", y == x)\n",
    "print(\"Are objects y and x the same?\", y is x)\n",
    "print(\"Are values of z and x the same?\", z == x)\n",
    "print(\"Are objects z and x the same?\", z is x)"
   ]
  },
  {
   "cell_type": "code",
   "execution_count": null,
   "metadata": {},
   "outputs": [],
   "source": [
    "# Let's change x\n",
    "x[1] = 23\n",
    "print(x)\n",
    "print(y)\n",
    "print(z)\n",
    "print(\"Are values of y and x the same?\", y == x)\n",
    "print(\"Are objects y and x the same?\", y is x)\n",
    "print(\"Are values of z and x the same?\", z == x)\n",
    "print(\"Are objects z and x the same?\", z is x)"
   ]
  },
  {
   "cell_type": "markdown",
   "metadata": {},
   "source": [
    "In Python even expressions that do not involve an obvious boolean value can be assigned a status of \"truthfulness\";  the value of an item itself can be forced to be considered as either True or False inside an if statement. For the Python built-in types discussed in this chapter the following are deemed to be False in such a context:\n",
    "\n",
    "| False value | Description | \n",
    "|-------------|-------------|\n",
    "| `None` |\tnumeric equality |\n",
    "| `False` |\tFalse boolean |\n",
    "| `0`\t| 0 integer |\n",
    "| `0.0` |\t0.0 floating point |\n",
    "| `\"\"` |\tempty string |\n",
    "| `()` |\tempty tuple |\n",
    "| `[]` |\tempty list |\n",
    "| `{}` |\tempty dictonary |\n",
    "| `set()` |\tempty set |\n",
    "\n",
    "And everything else is deemed to be True in a conditional context."
   ]
  },
  {
   "cell_type": "code",
   "execution_count": null,
   "metadata": {
    "collapsed": true
   },
   "outputs": [],
   "source": [
    "x = ''      # An empty string\n",
    "y = ['a']   # A list with one item\n",
    "\n",
    "if x:\n",
    "    print(\"x is true\")\n",
    "else: \n",
    "    print(\"x is false\")     \n",
    "\n",
    "if y:\n",
    "    print(\"y is true\")\n",
    "else:\n",
    "    print(\"y is false\")"
   ]
  },
  {
   "cell_type": "markdown",
   "metadata": {},
   "source": [
    "## Exercises 2.1.1\n",
    "\n",
    "Create a `if..elif..else` block that will compare a variable containing your age to another variable containing another person's age and print a statement which says if you are younger, older or the same age as that person.\n",
    "\n",
    "## Exercises 2.1.2\n",
    "\n",
    "Use an `if` statement to check if some variable containing DNA sequence contains a stop codon. (e.g. `dna = \"ATGGCGGTCGAATAG\"`), first just check for one possible stop, but then extend your code to look for any of the 3 stop codons (`TAG`, `TAA`, `TGA`). Hint: recall that the `in` operator lets you check if a string contains some substring, and returns `True` or `False` accordingly."
   ]
  },
  {
   "cell_type": "markdown",
   "metadata": {},
   "source": [
    "## Next session\n",
    "\n",
    "Go to our next notebook: [python_basic_2_2](python_basic_2_2.ipynb)"
   ]
  },
  {
   "cell_type": "markdown",
   "metadata": {
    "collapsed": true
   },
   "source": [
    "# Part 2.2: Loops\n",
    "\n",
    "- The <tt>for</tt> loop\n",
    "- The <tt>while</tt> loop\n",
    "- Skipping and breaking loops\n",
    "- More looping using `range()` and `enumerate()`\n",
    "- Filtering in loops\n"
   ]
  },
  {
   "cell_type": "markdown",
   "metadata": {},
   "source": [
    "## Loops"
   ]
  },
  {
   "cell_type": "markdown",
   "metadata": {},
   "source": [
    "When an operation needs to be repeated multiple times, for example on all of the items in a list, we \n",
    "avoid having to type (or copy and paste) repetitive code by creating a loop. There are two ways of creating loops in Python, the <tt>for</tt> loop and the <tt>while</tt> loop."
   ]
  },
  {
   "cell_type": "markdown",
   "metadata": {},
   "source": [
    "## The <tt>for</tt> loop"
   ]
  },
  {
   "cell_type": "markdown",
   "metadata": {},
   "source": [
    "The for loop in Python iterates over each item in a sequence (such as a list or tuple) in the order that they appear in the sequence. What this means is that a variable (<tt>code</tt> in the below example) is set to each item from the sequence of values in turn, and each time this happens the indented block of code is executed again."
   ]
  },
  {
   "cell_type": "code",
   "execution_count": null,
   "metadata": {
    "collapsed": true
   },
   "outputs": [],
   "source": [
    "codeList = ['NA06984', 'NA06985', 'NA06986', 'NA06989', 'NA06991']\n",
    "\n",
    "for code in codeList:\n",
    "    print(code)"
   ]
  },
  {
   "cell_type": "markdown",
   "metadata": {},
   "source": [
    "A <tt>for</tt> loop can iterate over the individual characters in a string:"
   ]
  },
  {
   "cell_type": "code",
   "execution_count": null,
   "metadata": {
    "collapsed": true
   },
   "outputs": [],
   "source": [
    "dnaSequence = 'ATGGTGTTGCC'\n",
    "\n",
    "for base in dnaSequence:\n",
    "    print(base)"
   ]
  },
  {
   "cell_type": "markdown",
   "metadata": {},
   "source": [
    "And also over the keys of a dictionary: "
   ]
  },
  {
   "cell_type": "code",
   "execution_count": null,
   "metadata": {
    "collapsed": true
   },
   "outputs": [],
   "source": [
    "rnaMassDict = {\"G\":345.21, \"C\":305.18, \"A\":329.21, \"U\":302.16}\n",
    "\n",
    "for x in rnaMassDict:\n",
    "    print(x, rnaMassDict[x])"
   ]
  },
  {
   "cell_type": "markdown",
   "metadata": {},
   "source": [
    "Any variables that are defined before the loop can be accessed from inside the loop. So for example to calculate the summation of the items in a list of values we could define the total initially to be zero and add each value to the total in the loop:"
   ]
  },
  {
   "cell_type": "code",
   "execution_count": null,
   "metadata": {
    "collapsed": true
   },
   "outputs": [],
   "source": [
    "total = 0\n",
    "values = [1, 2, 4, 8, 16]\n",
    "\n",
    "for v in values:\n",
    "    total = total + v\n",
    "    # total += v\n",
    "    print(total)\n",
    "\n",
    "print(total)"
   ]
  },
  {
   "cell_type": "markdown",
   "metadata": {},
   "source": [
    "Naturally we can combine a <tt>for</tt> loop with an <tt>if</tt> statement, noting that we need two indentation levels, one for the outer loop and another for the conditional blocks:"
   ]
  },
  {
   "cell_type": "code",
   "execution_count": null,
   "metadata": {
    "collapsed": true
   },
   "outputs": [],
   "source": [
    "geneExpression = {\n",
    "    'Beta-Catenin': 2.5, \n",
    "    'Beta-Actin': 1.7, \n",
    "    'Pax6': 0, \n",
    "    'HoxA2': -3.2\n",
    "}\n",
    "\n",
    "for gene in geneExpression:\n",
    "    if geneExpression[gene] < 0:\n",
    "        print(gene, \"is downregulated\")\n",
    "        \n",
    "    elif geneExpression[gene] > 0:\n",
    "        print(gene, \"is upregulated\")\n",
    "        \n",
    "    else:\n",
    "        print(\"No change in expression of \", gene)"
   ]
  },
  {
   "cell_type": "markdown",
   "metadata": {},
   "source": [
    "## Exercises 2.2.1\n",
    "\n",
    "1. Create a sequence where each element is an individual base of DNA. Make the sequence 15 bases long.\n",
    "2. Print the length of the sequence.\n",
    "3. Create a `for` loop to output every base of the sequence on a new line."
   ]
  },
  {
   "cell_type": "markdown",
   "metadata": {},
   "source": [
    "## The <tt>while</tt> loop"
   ]
  },
  {
   "cell_type": "markdown",
   "metadata": {},
   "source": [
    "In addition to the <tt>for</tt> loop that operates on a collection of items, there is a <tt>while</tt> loop that simply repeats while some statement evaluates to True and stops when it is False. Note that if the tested expression never evaluates to False then you have an “infinite loop”, which is not good.\n",
    "\n",
    "In this example we generate a series of numbers by doubling a value after each iteration, until a limit is reached: "
   ]
  },
  {
   "cell_type": "code",
   "execution_count": null,
   "metadata": {
    "collapsed": true
   },
   "outputs": [],
   "source": [
    "value = 0.25\n",
    "while value < 8:\n",
    "    value = value * 2\n",
    "    print(value)\n",
    "\n",
    "print(\"final value:\", value)"
   ]
  },
  {
   "cell_type": "markdown",
   "metadata": {},
   "source": [
    "Whats going on here is that the value is doubled in each iteration and once it gets to 8 the while test fails (8 is not less than 8) and that last value is preserved. Note that if the test were instead value `<= 8` then we would get one more doubling and the value would reach 16."
   ]
  },
  {
   "cell_type": "markdown",
   "metadata": {},
   "source": [
    "## Exercises 2.2.2\n",
    "\n",
    "1. Reuse the 15 bases long sequence created at the previous exercise where each element is an individual base of DNA.\n",
    "2. Create a <tt>while</tt> loop similar to the one above that starts at the third base in the sequence and outputs every third base until the 12th."
   ]
  },
  {
   "cell_type": "markdown",
   "metadata": {},
   "source": [
    "## Skipping and breaking loops"
   ]
  },
  {
   "cell_type": "markdown",
   "metadata": {},
   "source": [
    "Python has two ways of affecting the flow of the <tt>for</tt> or <tt>while</tt> loop inside the block. The <tt>continue</tt> statement means that the rest of the code in the block is skipped for this particular item in the collection, i.e. jump to the next iteration. In this example negative numbers are left out of a summation:"
   ]
  },
  {
   "cell_type": "code",
   "execution_count": null,
   "metadata": {
    "collapsed": true
   },
   "outputs": [],
   "source": [
    "values = [10, -5, 3, -1, 7]\n",
    "\n",
    "total = 0\n",
    "for v in values:\n",
    "    if v < 0:\n",
    "        continue # Skip this iteration   \n",
    "    total += v\n",
    "\n",
    "print(total)"
   ]
  },
  {
   "cell_type": "markdown",
   "metadata": {},
   "source": [
    "The other way of affecting a loop is with the <tt>break</tt> statement. In contrast to the <tt>continue</tt> statement, this immediately causes all looping to finish, and execution is resumed at the next statement _after_ the loop."
   ]
  },
  {
   "cell_type": "code",
   "execution_count": null,
   "metadata": {
    "collapsed": true
   },
   "outputs": [],
   "source": [
    "geneticCode = {'TAT': 'Tyrosine',  'TAC': 'Tyrosine',\n",
    "               'CAA': 'Glutamine', 'CAG': 'Glutamine',\n",
    "               'TAG': 'STOP'}\n",
    "\n",
    "sequence = ['CAG','TAC','CAA','TAG','TAC','CAG','CAA']\n",
    "\n",
    "for codon in sequence:\n",
    "    if geneticCode[codon] == 'STOP':\n",
    "        break            # Quit looping at this point\n",
    "    else:\n",
    "        print(geneticCode[codon])"
   ]
  },
  {
   "cell_type": "markdown",
   "metadata": {},
   "source": [
    "## Looping gotchas"
   ]
  },
  {
   "cell_type": "markdown",
   "metadata": {},
   "source": [
    "An internal counter is used to keep track of which item is used next, and this is incremented on each iteration. When this counter has reached the length of the sequence the loop terminates. This means that if you delete the current item from the sequence, the next item will be skipped (since it gets the index of the current item which has already been treated). Likewise, if you insert an item in a sequence before the current item, the current item will be treated again the next time through the loop. This can lead to nasty bugs that can be avoided by making a temporary copy using a slice of the whole sequence."
   ]
  },
  {
   "cell_type": "markdown",
   "metadata": {},
   "source": [
    "<div class=\"alert-warning\">\n",
    "**When looping, never modify the collection!** Always create a copy of it first.\n",
    "</div>"
   ]
  },
  {
   "cell_type": "markdown",
   "metadata": {},
   "source": [
    "## More looping"
   ]
  },
  {
   "cell_type": "markdown",
   "metadata": {},
   "source": [
    "### Using `range()`"
   ]
  },
  {
   "cell_type": "markdown",
   "metadata": {},
   "source": [
    "If you would like to iterate over a numeric sequence then this is possible by combining the `range()` function and a for loop."
   ]
  },
  {
   "cell_type": "code",
   "execution_count": null,
   "metadata": {
    "collapsed": true
   },
   "outputs": [],
   "source": [
    "print(list(range(10)))\n",
    "\n",
    "print(list(range(5, 10)))\n",
    "\n",
    "print(list(range(0, 10, 3)))\n",
    "\n",
    "print(list(range(7, 2, -2)))"
   ]
  },
  {
   "cell_type": "markdown",
   "metadata": {},
   "source": [
    "Looping through ranges "
   ]
  },
  {
   "cell_type": "code",
   "execution_count": null,
   "metadata": {
    "collapsed": true
   },
   "outputs": [],
   "source": [
    "for x in range(8):\n",
    "    print(x*x)"
   ]
  },
  {
   "cell_type": "code",
   "execution_count": null,
   "metadata": {
    "collapsed": true
   },
   "outputs": [],
   "source": [
    "squares = []\n",
    "for x in range(8):\n",
    "    s = x*x\n",
    "    squares.append(s)\n",
    "    \n",
    "print(squares)"
   ]
  },
  {
   "cell_type": "markdown",
   "metadata": {},
   "source": [
    "### Using `enumerate()`"
   ]
  },
  {
   "cell_type": "markdown",
   "metadata": {},
   "source": [
    "Given a sequence, `enumerate()` allows you to iterate over the sequence generating a tuple containing each value along with a corresponding index."
   ]
  },
  {
   "cell_type": "code",
   "execution_count": null,
   "metadata": {
    "collapsed": true
   },
   "outputs": [],
   "source": [
    "letters = ['A','C','G','T']\n",
    "for index, letter in enumerate(letters):\n",
    "    print(index, letter)"
   ]
  },
  {
   "cell_type": "code",
   "execution_count": null,
   "metadata": {
    "collapsed": true
   },
   "outputs": [],
   "source": [
    "numbered_letters = list(enumerate(letters))\n",
    "print(numbered_letters)"
   ]
  },
  {
   "cell_type": "markdown",
   "metadata": {},
   "source": [
    "## Filtering in loops"
   ]
  },
  {
   "cell_type": "code",
   "execution_count": null,
   "metadata": {
    "collapsed": true
   },
   "outputs": [],
   "source": [
    "city_pops = {\n",
    "    'London': 8200000,\n",
    "    'Cambridge': 130000,\n",
    "    'Edinburgh': 420000,\n",
    "    'Glasgow': 1200000\n",
    "}\n",
    "\n",
    "big_cities = []\n",
    "for city in city_pops:\n",
    "    if city_pops[city] >= 1000000:\n",
    "         big_cities.append(city)\n",
    "\n",
    "print(big_cities)"
   ]
  },
  {
   "cell_type": "code",
   "execution_count": null,
   "metadata": {
    "collapsed": true
   },
   "outputs": [],
   "source": [
    "total = 0\n",
    "for city in city_pops:\n",
    "    total += city_pops[city]\n",
    "print(\"total population:\", total)"
   ]
  },
  {
   "cell_type": "code",
   "execution_count": null,
   "metadata": {
    "collapsed": true
   },
   "outputs": [],
   "source": [
    "pops = list(city_pops.values())\n",
    "print(\"total population:\", sum(pops))"
   ]
  },
  {
   "cell_type": "markdown",
   "metadata": {},
   "source": [
    "## Formating string\n",
    "\n",
    "Constructing more complex strings from a mix of variables of different types can be cumbersome, and sometimes you want more control over how values are interpolated into a string. Python provides a powerful mechanism for formatting strings using built-in `.format()` function using \"replacement fields\" surrounded by curly braces `{}` which starts with an optional field name followed by a colon `:` and finishes with a format specification. \n",
    "\n",
    "There are lots of these specifiers, but here are 3 useful ones:\n",
    "\n",
    "    d: decimal integer\n",
    "    f: floating point number\n",
    "    s: string\n",
    "\n",
    "You can specify the number of decimal points to use in a floating point number with, e.g. `.2f` to use 2 decimal places or `+.2f` to use 2 decimal with always showing its associated sign."
   ]
  },
  {
   "cell_type": "code",
   "execution_count": null,
   "metadata": {
    "collapsed": true
   },
   "outputs": [],
   "source": [
    "print('{:.2f}'.format(0.4567))"
   ]
  },
  {
   "cell_type": "code",
   "execution_count": null,
   "metadata": {
    "collapsed": true
   },
   "outputs": [],
   "source": [
    "geneExpression = {\n",
    "    'Beta-Catenin': 2.5, \n",
    "    'Beta-Actin': 1.7, \n",
    "    'Pax6': 0, \n",
    "    'HoxA2': -3.2\n",
    "}\n",
    "\n",
    "for gene in geneExpression:\n",
    "    print('{:s}\\t{:+.2f}'.format(gene, geneExpression[gene])) # s is optional\n",
    "    # could also be written using variable names\n",
    "    #print('{gene:s}\\t{exp:+.2f}'.format(gene=gene, exp=geneExpression[gene]))"
   ]
  },
  {
   "cell_type": "markdown",
   "metadata": {},
   "source": [
    "## Exercises 2.2.3\n",
    "\n",
    "1. Let's calculate the GC content of a DNA sequence. Use the 15-base sequence you created for the exercises above. Create a variable, `gc`, which we will use to count the number of Gs or Cs in our sequence.\n",
    "2. Output every base of the sequence alongside its index on a new line.\n",
    "3. Create a loop to iterate over the bases in your sequence. If the base is a G or the base is a C, add one to your `gc` variable.\n",
    "4. When the loop is done, divide the number of GC bases by the length of the sequence and multiply by 100 to get the GC percentage. Format the result to only display 2 decimal places."
   ]
  },
  {
   "cell_type": "markdown",
   "metadata": {},
   "source": [
    "# Part 2.3: Files\n",
    "\n",
    "-----\n",
    "\n",
    "- Using files\n",
    "- Reading from files\n",
    "- Writing to files\n"
   ]
  },
  {
   "cell_type": "markdown",
   "metadata": {},
   "source": [
    "# Data input and output (I/O)"
   ]
  },
  {
   "cell_type": "markdown",
   "metadata": {},
   "source": [
    "So far, all that data we have been working with has been written by us into our scripts, and the results of out computation has just been displayed in the terminal output. In the real world data will be supplied by the user of our programs (who may be you!) by some means, and we will often want to save the results of some analysis somewhere more permanent than just printing it to the screen. In this session we cover the way of reading data into our programs by reading files from disk, we also discuss writing out data to files. \n",
    "\n",
    "There are, of course, many other ways of accessing data, such as querying a database or retrieving data from a network such as the internet. We don't cover these here, but python has excellent support for interacting with databases and networks either in the standard library or using external modules."
   ]
  },
  {
   "cell_type": "markdown",
   "metadata": {},
   "source": [
    "## Using files"
   ]
  },
  {
   "cell_type": "markdown",
   "metadata": {},
   "source": [
    "Frequently the data we want to operate on or analyse will be stored in files, so in our programs we need to be able to open files, read through them (perhaps all at once, perhaps not), and then close them. \n",
    "\n",
    "We will also frequently want to be able to print output to files rather than always printing out results to the terminal.\n",
    "\n",
    "Python supports all of these modes of operations on files, and provides a number of useful functions and syntax to make dealing with files straightforward."
   ]
  },
  {
   "cell_type": "markdown",
   "metadata": {},
   "source": [
    "### Opening files"
   ]
  },
  {
   "cell_type": "markdown",
   "metadata": {},
   "source": [
    "To open a file, python provides the `open` function, which takes a filename as its first argument and returns a _file object_ which is python's internal representation of the file."
   ]
  },
  {
   "cell_type": "code",
   "execution_count": null,
   "metadata": {},
   "outputs": [],
   "source": [
    "path = \"data/datafile.txt\"\n",
    "fileObj = open( path )"
   ]
  },
  {
   "cell_type": "markdown",
   "metadata": {},
   "source": [
    "`open` takes an optional second argument specifying the _mode_ in which the file is opened, either for reading, writing or appending.\n",
    "\n",
    "It defaults to `'r'` which means open for reading in text mode. Other common values are `'w'` for writing (truncating the file if it already exists) and `'a'` for appending."
   ]
  },
  {
   "cell_type": "code",
   "execution_count": null,
   "metadata": {},
   "outputs": [],
   "source": [
    "open( \"data/myfile.txt\", \"r\" ) # open for reading, default"
   ]
  },
  {
   "cell_type": "code",
   "execution_count": null,
   "metadata": {},
   "outputs": [],
   "source": [
    "open( \"data/myfile.txt\", \"w\" ) # open for writing (existing files will be overwritten)"
   ]
  },
  {
   "cell_type": "code",
   "execution_count": null,
   "metadata": {},
   "outputs": [],
   "source": [
    "open( \"data/myfile.txt\", \"a\" ) # open for appending"
   ]
  },
  {
   "cell_type": "markdown",
   "metadata": {},
   "source": [
    "### Closing files"
   ]
  },
  {
   "cell_type": "markdown",
   "metadata": {},
   "source": [
    "To close a file once you finished with it, you can call the `.close` method on a file object."
   ]
  },
  {
   "cell_type": "code",
   "execution_count": null,
   "metadata": {},
   "outputs": [],
   "source": [
    "fileObj.close()"
   ]
  },
  {
   "cell_type": "markdown",
   "metadata": {},
   "source": [
    "### Mode modifiers\n",
    "\n",
    "These mode strings can include some extra modifier characters to deal with issues with files across multiple platforms.\n",
    "\n",
    "`'b'`: binary mode, e.g. `'rb'`. No translation for end-of-line characters to platform specific setting value.\n",
    "\n",
    "|Character | Meaning |\n",
    "|----------|---------|\n",
    "|`'r'` |\topen for reading (default) |\n",
    "|`'w'` |\topen for writing, truncating the file first |\n",
    "|`'x'` |\topen for exclusive creation, failing if the file already exists |\n",
    "|`'a'` |\topen for writing, appending to the end of the file if it exists |\n",
    "|`'b'` |\tbinary mode |\n",
    "|`'t'` |\ttext mode (default) |\n",
    "|`'+'` |\topen a disk file for updating (reading and writing) |"
   ]
  },
  {
   "cell_type": "markdown",
   "metadata": {},
   "source": [
    "## Reading from files"
   ]
  },
  {
   "cell_type": "markdown",
   "metadata": {},
   "source": [
    "Once we have opened a file for reading, file objects provide a number of methods for accessing the data in a file. The simplest of these is the `.read` method that reads the entire contents of the file into a string variable.\n",
    "\n"
   ]
  },
  {
   "cell_type": "code",
   "execution_count": null,
   "metadata": {},
   "outputs": [],
   "source": [
    "fileObj = open( \"data/datafile.txt\" )\n",
    "print(fileObj.read()) # everything\n",
    "fileObj.close()"
   ]
  },
  {
   "cell_type": "markdown",
   "metadata": {},
   "source": [
    "Note that this means the entire file will be read into memory. If you are operating on a large file and don't actually need all the data at the same time this is rather inefficient.\n",
    "\n",
    "Frequently, we just need to operate on individual lines of the file, and you can use the `.readline` method to read a line from a file and return it as a python string.\n",
    "\n",
    "File objects internally keep track of your current location in a file, so to get following lines from the file you can call this method multiple times.\n",
    "\n",
    "It is important to note that the string representing each line will have a trailing newline `\"\\n\"` character, which you may want to remove with the `.rstrip` string method.\n",
    "\n",
    "Once the end of the file is reached, `.readline` will return an empty string `''`. This is different from an apparently empty line in a file, as even an empty line will contain a newline character. Recall that the empty string is considered as `False` in python, so you can readily check for this condition with an `if` statement etc."
   ]
  },
  {
   "cell_type": "code",
   "execution_count": null,
   "metadata": {},
   "outputs": [],
   "source": [
    "# one line at a time\n",
    "fileObj = open( \"data/datafile.txt\" )\n",
    "print(\"1st line:\", fileObj.readline())\n",
    "print(\"2nd line:\", fileObj.readline())\n",
    "print(\"3rd line:\", fileObj.readline())\n",
    "print(\"4th line:\", fileObj.readline())\n",
    "fileObj.close()"
   ]
  },
  {
   "cell_type": "markdown",
   "metadata": {},
   "source": [
    "To read in all lines from a file as a list of strings containing the data from each line, use the `.readlines` method (though note that this will again read all data into memory)."
   ]
  },
  {
   "cell_type": "code",
   "execution_count": null,
   "metadata": {},
   "outputs": [],
   "source": [
    "# all lines\n",
    "fileObj = open( \"data/datafile.txt\" )\n",
    "\n",
    "lines = fileObj.readlines()\n",
    "\n",
    "print(\"The file has\", len(lines), \"lines\")\n",
    "\n",
    "fileObj.close()"
   ]
  },
  {
   "cell_type": "markdown",
   "metadata": {},
   "source": [
    "Looping over the lines in a file is a very common operation and python lets you iterate over a file using a `for` loop just as if it were an array of strings. This does not read all data into memory at once, and so is much more efficient that reading the file with `.readlines` and then looping over the resulting list."
   ]
  },
  {
   "cell_type": "code",
   "execution_count": null,
   "metadata": {},
   "outputs": [],
   "source": [
    "# as an iterable\n",
    "fileObj = open( \"data/datafile.txt\" )\n",
    "\n",
    "for line in fileObj:\n",
    "    print(line.rstrip().upper())\n",
    "\n",
    "fileObj.close()"
   ]
  },
  {
   "cell_type": "markdown",
   "metadata": {},
   "source": [
    "### The with statement"
   ]
  },
  {
   "cell_type": "markdown",
   "metadata": {},
   "source": [
    "It is important that files are closed when they are no longer required, but writing ``fileObj.close()`` is tedious (and more importantly, easy to forget). An alternative syntax is to open the files within a ``with`` statement, in which case the file will automatically be closed at the end of the `with` block."
   ]
  },
  {
   "cell_type": "code",
   "execution_count": null,
   "metadata": {},
   "outputs": [],
   "source": [
    "# fileObj will be closed when leaving the block\n",
    "with open( \"data/datafile.txt\" ) as fileObj:\n",
    "    for ( i, line ) in enumerate( fileObj, start = 1 ):\n",
    "        print( i, line.strip() )"
   ]
  },
  {
   "cell_type": "markdown",
   "metadata": {},
   "source": [
    "## Exercises 2.3.1\n",
    "\n",
    "Write a script that reads a file containing many lines of nucleotide sequence. For each line in the file, print out the line number, the length of the sequence and the sequence (There is an example file <a href=\"http://www.ebi.ac.uk/~grsr/perl/dna.txt\">here</a> or in `data/dna.txt` from the course materials )."
   ]
  },
  {
   "cell_type": "markdown",
   "metadata": {},
   "source": [
    "## Writing to files"
   ]
  },
  {
   "cell_type": "markdown",
   "metadata": {},
   "source": [
    "Once a file has been opened for writing, you can use the `.write()` method on a file object to write data to the file.\n",
    "\n",
    "The argument to the `.write()` method must be a string, so if you want to write out numerical data to a file you will have to convert it to a string somehow beforehand."
   ]
  },
  {
   "cell_type": "markdown",
   "metadata": {},
   "source": [
    "<div class=\"alert-warning\">**Remember** to include a newline character `\\n` to separate lines of your output, unlike the `print()` statement, `.write()` does not include this by default.</div>"
   ]
  },
  {
   "cell_type": "code",
   "execution_count": null,
   "metadata": {},
   "outputs": [],
   "source": [
    "read_counts = {\n",
    "    'BRCA2': 43234,\n",
    "    'FOXP2': 3245,\n",
    "    'SORT1': 343792\n",
    "}\n",
    "\n",
    "with open( \"out.txt\", \"w\" ) as output:\n",
    "    output.write(\"GENE\\tREAD_COUNT\\n\")\n",
    "\n",
    "    for gene in read_counts:\n",
    "        line = \"\\t\".join( [ gene, str(read_counts[gene]) ] )\n",
    "        output.write(line + \"\\n\")"
   ]
  },
  {
   "cell_type": "markdown",
   "metadata": {},
   "source": [
    "To view the output file, open a terminal window, go to the directory where the file has been written, and print the content of the file using `cat` command or open it using your favourite editor:\n",
    "\n",
    "```bash\n",
    "cat out.txt\n",
    "```"
   ]
  },
  {
   "cell_type": "markdown",
   "metadata": {},
   "source": [
    "Be cautious when opening a file for writing, as python will happily let you overwrite any existing data in the file. "
   ]
  },
  {
   "cell_type": "markdown",
   "metadata": {},
   "source": [
    "## Exercises 2.3.2\n",
    "\n",
    "Create a script that writes the values of a list of numbers to a file, with each number on a seperate line."
   ]
  },
  {
   "cell_type": "markdown",
   "metadata": {},
   "source": [
    "# Part 2.4: Delimited files\n",
    "\n",
    "------\n",
    "\n",
    "- Data formats\n"
   ]
  },
  {
   "cell_type": "markdown",
   "metadata": {},
   "source": [
    "## Data formats"
   ]
  },
  {
   "cell_type": "markdown",
   "metadata": {},
   "source": [
    "Bioinformaticians love creating endless new file formats for their data, but there is one very common standard format\n",
    "that it is good to get used to parsing."
   ]
  },
  {
   "cell_type": "markdown",
   "metadata": {},
   "source": [
    "Delimited file example:\n",
    "```\n",
    "X 169008682 1 111267453 1.0976\n",
    "2 8265484 5 69763543 4.9825\n",
    "MT 10924 MT 81934 7.2357\n",
    "3 127 8 10908776 1.2509\n",
    "```"
   ]
  },
  {
   "cell_type": "markdown",
   "metadata": {},
   "source": [
    "### Reading delimited files"
   ]
  },
  {
   "cell_type": "markdown",
   "metadata": {},
   "source": [
    "We can use the various string manipulation techniques covered earlier to process delimited files in a fairly straightforward way. Here we loop through a file with columns delimited by spaces, reading the data for each row into a list, and storing each of these lists into a main results list."
   ]
  },
  {
   "cell_type": "markdown",
   "metadata": {},
   "source": [
    "To view the an example of a delimited file, open a terminal window, go to the course directory, and print the content of the file using `cat` command or open it using your favourite editor:\n",
    "\n",
    "```bash\n",
    "cat data/mydata.txt\n",
    "```\n",
    "\n",
    "```\n",
    "Index Organism Score\n",
    "1 Human 1.076\n",
    "2 Mouse 1.202\n",
    "3 Frog 2.2362\n",
    "4 Fly 0.9853\n",
    "```"
   ]
  },
  {
   "cell_type": "code",
   "execution_count": null,
   "metadata": {
    "collapsed": true
   },
   "outputs": [],
   "source": [
    "results = []\n",
    "\n",
    "with open(\"data/mydata.txt\", \"r\") as data:\n",
    "    header = data.readline()\n",
    "    for line in data:\n",
    "        results.append(line.split())\n",
    "        \n",
    "        \n",
    "print(results)"
   ]
  },
  {
   "cell_type": "markdown",
   "metadata": {},
   "source": [
    "Here we show a slightly more complicated example where we are reading the results into a more convenient data structure, a list of dictionaries with the dictionary keys corresponding to the column headers and the values to the values from each line. We also convert the columns to an appropriate type as we go."
   ]
  },
  {
   "cell_type": "code",
   "execution_count": null,
   "metadata": {
    "collapsed": true
   },
   "outputs": [],
   "source": [
    "results = []\n",
    "\n",
    "with open(\"data/mydata.txt\", \"r\") as data:\n",
    "    header = data.readline()\n",
    "    for line in data:\n",
    "        idx, org, score = line.split()\n",
    "        row = {'Index': int(idx), 'Organism': org, 'Score': float(score)}\n",
    "        results.append(row)\n",
    "        \n",
    "print(results)\n",
    "print('Score of first row:', results[0]['Score'])"
   ]
  },
  {
   "cell_type": "markdown",
   "metadata": {},
   "source": [
    "### Writing delimited files"
   ]
  },
  {
   "cell_type": "markdown",
   "metadata": {},
   "source": [
    "Writing out a delimited file is also straightforward using the `join` method. Here, as an example we will recreate our original file from above, but this time we will delimit the columns with a comma."
   ]
  },
  {
   "cell_type": "code",
   "execution_count": null,
   "metadata": {
    "collapsed": true
   },
   "outputs": [],
   "source": [
    "mydata = [{'Organism': 'Human', 'Index': 1, 'Score': 1.076}, \n",
    "          {'Organism': 'Mouse', 'Index': 2, 'Score': 1.202}, \n",
    "          {'Organism': 'Frog', 'Index': 3, 'Score': 2.2362}, \n",
    "          {'Organism': 'Fly', 'Index': 4, 'Score': 0.9853}]\n",
    "\n",
    "with open('data/mydata.csv', 'w') as output:\n",
    "    # write a header\n",
    "    header = \",\".join(['Index', 'Organism', 'Score'])\n",
    "    output.write(header + \"\\n\")\n",
    "    for row in mydata:\n",
    "        line = \",\".join([str(row['Index']), row['Organism'], str(row['Score'])])\n",
    "        output.write(line + \"\\n\")"
   ]
  },
  {
   "cell_type": "markdown",
   "metadata": {},
   "source": [
    "To view the output file, open a terminal window, go to the course directory, and print the content of the file using `cat` command or open it using your favourite editor:\n",
    "\n",
    "```bash\n",
    "cat data/mydata.csv\n",
    "```\n",
    "\n",
    "```\n",
    "Index,Organism,Score\n",
    "1,Human,1.076\n",
    "2,Mouse,1.202\n",
    "3,Frog,2.2362\n",
    "4,Fly,0.9853\n",
    "```"
   ]
  },
  {
   "cell_type": "markdown",
   "metadata": {},
   "source": [
    "## Last but not least\n",
    "\n",
    "### A big thank you!\n",
    "\n",
    "### Remember...\n",
    "- Our course webpage: http://pycam.github.io\n",
    "- The Python website: https://www.python.org/ \n",
    "- To fill the course survey ;-)\n",
    "- To come to our next course 'Working with Python: functions and modules' and register at https://training.csx.cam.ac.uk/"
   ]
  },
  {
   "cell_type": "markdown",
   "metadata": {},
   "source": [
    "## Exercises 2.4.1\n",
    "\n",
    "Write a script that reads a tab delimited file which has 4 columns: gene, chromosome, start and end coordinates; that computes each gene's length and stores it into a dictionary; and writes the results into a new tab separated file. You can find a data file in ` data/genes.txt` directory of the course materials."
   ]
  },
  {
   "cell_type": "markdown",
   "metadata": {},
   "source": [
    "## Exercises 2.4.2 \n",
    "\n",
    "Read the lyrics of Imagine by John Lennon, 1971 from the file in `data/imagine.txt`. Split the text into words. Print the total number of words, and the number of distinct words. Calculate the frequency of each distinct word and store the result into a dictionary. Print each distinct word along with its frequency. Find the most frequent word longer than 3 characters in the song, print it with its frequency.\n",
    "\n",
    "<center><img src=\"https://upload.wikimedia.org/wikipedia/en/1/1d/John_Lennon_-_Imagine_John_Lennon.jpg\"/></center>"
   ]
  },
  {
   "cell_type": "markdown",
   "metadata": {},
   "source": [
    "## Exercises 2.4.3 \n",
    "#### Real life example\n",
    "\n",
    "You have a tab separated file which contains information about all the yeast (*S.cerevisiae*) gene `data/yeast_genes.txt`:\n",
    "\n",
    "`Systematic_name\tStandard_name\tChromosome\tStart\t    End\n",
    "YBR127C             VMA2             chrII         491269      492822\n",
    "YBR128C             ATG14            chrII         493081      494115\n",
    "...\n",
    "`\n",
    "\n",
    "For every gene, its location and coordinates are recorded. \n",
    "You should read through the file and store the data into an appropriate structure.\n",
    "Then answer these questions:\n",
    "\n",
    "- How many genes are there in *S.cerevisiae*?\n",
    "- Which is  the longest and which is the shortest gene?\n",
    "- How many genes per chromosome? Print the number of genes per chromosome.\n",
    "- For each chromosome, what is the longest and what is the shortest gene?\n",
    "- For each chromosome, how many genes on the Watson strand and how many genes on the Crick strand?\n",
    "\n",
    "**bonus** \n",
    "\n",
    "- What is the chromosome with the highest gene density? You can calculate the length of each chromosome assuming that they start at 1 and they end at the end (if on the Watson strand) or at the start (if on the Crick strand) of their last gene. Then you can calculate the length of all the genes on each chromosome and the ratio between coding vs. noncoding regions."
   ]
  }
 ],
 "metadata": {
  "celltoolbar": "Slideshow",
  "kernelspec": {
   "display_name": "Python 3",
   "language": "python",
   "name": "python3"
  },
  "language_info": {
   "codemirror_mode": {
    "name": "ipython",
    "version": 3
   },
   "file_extension": ".py",
   "mimetype": "text/x-python",
   "name": "python",
   "nbconvert_exporter": "python",
   "pygments_lexer": "ipython3",
   "version": "3.6.5"
  }
 },
 "nbformat": 4,
 "nbformat_minor": 1
}
